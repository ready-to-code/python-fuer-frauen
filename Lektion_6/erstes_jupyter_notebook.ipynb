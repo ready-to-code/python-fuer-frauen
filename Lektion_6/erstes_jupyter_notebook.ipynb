{
 "cells": [
  {
   "cell_type": "code",
   "execution_count": 1,
   "metadata": {},
   "outputs": [
    {
     "name": "stdout",
     "output_type": "stream",
     "text": [
      "Hallo Welt!\n"
     ]
    }
   ],
   "source": [
    "print(\"Hallo Welt!\")"
   ]
  },
  {
   "cell_type": "markdown",
   "metadata": {},
   "source": [
    "Python-Workshop mit Jupyter Notebook"
   ]
  },
  {
   "cell_type": "markdown",
   "metadata": {},
   "source": [
    "# Lektion 6"
   ]
  },
  {
   "cell_type": "code",
   "execution_count": 2,
   "metadata": {},
   "outputs": [
    {
     "name": "stdout",
     "output_type": "stream",
     "text": [
      "Werte fuer Bus\n",
      "Antrieb: Ottomotor\n",
      "Leistung: 120.0\n",
      "\n",
      "Werte fuer Smart\n",
      "Antrieb: Ottomotor\n",
      "Leistung: 120.0\n"
     ]
    }
   ],
   "source": [
    "class Automobil(object):\n",
    "    antrieb = \"Ottomotor\"\n",
    "    leistung_in_kw = 120.0\n",
    "\n",
    "    def ausgabe(self):\n",
    "        print(\"Antrieb:\", self.antrieb)\n",
    "        print(\"Leistung:\", self.leistung_in_kw)\n",
    "\n",
    "class PKW(Automobil):\n",
    "    pass\n",
    "\n",
    "print(\"Werte fuer Bus\")\n",
    "bus = Automobil()\n",
    "bus.ausgabe()\n",
    "\n",
    "print(\"\\nWerte fuer Smart\")\n",
    "smart = PKW()\n",
    "smart.ausgabe()"
   ]
  },
  {
   "cell_type": "code",
   "execution_count": null,
   "metadata": {},
   "outputs": [],
   "source": []
  }
 ],
 "metadata": {
  "kernelspec": {
   "display_name": "Python 3",
   "language": "python",
   "name": "python3"
  },
  "language_info": {
   "codemirror_mode": {
    "name": "ipython",
    "version": 3
   },
   "file_extension": ".py",
   "mimetype": "text/x-python",
   "name": "python",
   "nbconvert_exporter": "python",
   "pygments_lexer": "ipython3",
   "version": "3.8.5"
  }
 },
 "nbformat": 4,
 "nbformat_minor": 4
}
