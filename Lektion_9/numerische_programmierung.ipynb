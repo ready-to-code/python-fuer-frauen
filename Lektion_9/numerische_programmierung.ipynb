{
 "cells": [
  {
   "cell_type": "markdown",
   "metadata": {},
   "source": [
    "# Numerische Programmierung\n",
    "\n",
    "Python eignet sich durch die sehr einfache Handhabung von Operatoren, Variablen, Funktionen, Schleifen, Klassen und Containern sehr gut für mathematische und statistische Aufgaben und Probleme.\n",
    "\n",
    "Unter numerischer Programmierung versteht man das Gebiet der Informatik und der Mathematik, in dem es um Approximationsalgorithmen geht, d.h. die numerische Approximation von mathematischen Problemen oder numerischer Analysis.\n",
    "\n",
    "<u>Kurz:</u>    Mathematische Probleme mit stetigen Variablen."
   ]
  },
  {
   "cell_type": "markdown",
   "metadata": {},
   "source": [
    "### Warum dann nur \"Approximation\" ?"
   ]
  },
  {
   "cell_type": "markdown",
   "metadata": {},
   "source": [
    "#### BEISPIEL 1\n",
    "\n",
    "$wert = \\frac{1}{10}+\\frac{1}{10}+\\frac{1}{10} = \\frac{3}{10} = 0.3$"
   ]
  },
  {
   "cell_type": "code",
   "execution_count": 1,
   "metadata": {},
   "outputs": [],
   "source": [
    "# Seltsame Genauigkeitsprobleme\n",
    "\n",
    "wert = 0.0\n",
    "\n",
    "# Dreimal ein Zehntel addieren\n",
    "wert += 0.1\n",
    "wert += 0.1\n",
    "wert += 0.1\n",
    "\n",
    "# print(wert)"
   ]
  },
  {
   "cell_type": "markdown",
   "metadata": {},
   "source": [
    "#### BEISPIEL 2\n",
    "\n",
    "$\\displaystyle\\frac{1}{49}\\cdot 49 = 1.0$"
   ]
  },
  {
   "cell_type": "code",
   "execution_count": 2,
   "metadata": {},
   "outputs": [],
   "source": [
    "# Ergebnis = 1.0\n",
    "# print((1.0 / 49.0)*49.0)"
   ]
  },
  {
   "cell_type": "markdown",
   "metadata": {},
   "source": [
    "#### GRUND\n",
    "\n",
    "Aufgrund der Art und Weise, wie Dezimalzahlen vom Prozessor verarbeitet werden (Dezimalzahl wird als 64-Bit-Wert gespeichert), entstehen Genauigkeitsprobleme."
   ]
  },
  {
   "cell_type": "markdown",
   "metadata": {},
   "source": [
    "### Die Scientific-Python-Libraries NumPy, SciPy, Matplotlib und Pandas\n",
    "\n",
    "Als dynamisch deklarationsfreie Programmiersprache genießt Python viele Vorteile bei der Handhabung von Variablen. Dies geht jedoch auf Kosten von Geschwindigkeit und Speicherverbrauch. In Kombination mit den Modulen NumPy, SciPy, Matplotlib und Pandas stellt Python die mitunter effizienteste Methode zu numerischen Programmiersprachen wie MATLAB und R."
   ]
  },
  {
   "cell_type": "markdown",
   "metadata": {},
   "source": [
    "<img src=\"img/python_lib.png\" style=\"width:200px\"/>"
   ]
  },
  {
   "cell_type": "markdown",
   "metadata": {},
   "source": [
    "Jedoch verfügt Python über zwei ganz entscheidende Vorteile im Gegensatz zu MATLAB und R:\n",
    "1. Python und alle Module sind kostenlos.\n",
    "2. Python ist Open-Source, d.h. der Einsatz ist nicht durch Lizenzen eingeschränkt.\n",
    "3. NumPy, SciPy, Matplotlib und Pandas sind Teil der Anaconda-Distribution"
   ]
  }
 ],
 "metadata": {
  "kernelspec": {
   "display_name": "Python 3",
   "language": "python",
   "name": "python3"
  },
  "language_info": {
   "codemirror_mode": {
    "name": "ipython",
    "version": 3
   },
   "file_extension": ".py",
   "mimetype": "text/x-python",
   "name": "python",
   "nbconvert_exporter": "python",
   "pygments_lexer": "ipython3",
   "version": "3.8.5"
  }
 },
 "nbformat": 4,
 "nbformat_minor": 4
}
