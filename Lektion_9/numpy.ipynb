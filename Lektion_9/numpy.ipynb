{
 "cells": [
  {
   "cell_type": "markdown",
   "metadata": {},
   "source": [
    "# NumPy\n",
    "\n",
    "NumPy ist ein Erweiterungsmodul für numerische Berechnungen mit Python. Es beinhaltet grundlegende Datenstrukturen, sprich Matrizen und mehrdimensionale Arrays. Selbst ist NumPy in C umgesetzt worden und bietet mithilfe der Python-Schnittstelle die Möglichkeit Berechnungen schnell durchzuführen. Die Module SciPy, Matplotlib und Pandas greifen auf die erwähnten Datenstrukturen zurück, daher stellt NumPy das Fundament der Scientific-Python-Libraries auf.\n",
    "\n",
    "Mehr zu NumPy auf der offiziellen Website: http://numpy.org/"
   ]
  },
  {
   "cell_type": "markdown",
   "metadata": {},
   "source": [
    "### Download von NumPy\n",
    "\n",
    "Mit Python wird automatisch pip (Package-Manager für Python-Module auf PyPI.org) installiert. Selbst steht pip für \"pip installs packages\", was der Komandosyntax entspricht mit der Python-Module heruntergeladen werden."
   ]
  },
  {
   "cell_type": "code",
   "execution_count": 82,
   "metadata": {},
   "outputs": [
    {
     "name": "stdout",
     "output_type": "stream",
     "text": [
      "Requirement already satisfied: numpy in /Library/Frameworks/Python.framework/Versions/3.8/lib/python3.8/site-packages (1.17.4)\n"
     ]
    }
   ],
   "source": [
    "# nicht starten, da NumPy bereits installiert wurde und die notwendigen Rechte fehlen\n",
    "!pip3 install numpy"
   ]
  },
  {
   "cell_type": "markdown",
   "metadata": {},
   "source": [
    "### Verwenden von Math"
   ]
  },
  {
   "cell_type": "code",
   "execution_count": 1,
   "metadata": {},
   "outputs": [],
   "source": [
    "from math import *"
   ]
  },
  {
   "cell_type": "code",
   "execution_count": 2,
   "metadata": {},
   "outputs": [
    {
     "name": "stdout",
     "output_type": "stream",
     "text": [
      "[0.8414709848078965, 0.9092974268256817, 0.1411200080598672, -0.7568024953079282, -0.9589242746631385, -0.27941549819892586]\n"
     ]
    }
   ],
   "source": [
    "zahlen = [1, 2, 3, 4, 5, 6]\n",
    "ergebnis = []\n",
    "\n",
    "for x in zahlen:\n",
    "    y = sin(x)\n",
    "    ergebnis.append(y)\n",
    "    \n",
    "print(ergebnis)"
   ]
  },
  {
   "cell_type": "code",
   "execution_count": 3,
   "metadata": {},
   "outputs": [
    {
     "data": {
      "text/plain": [
       "list"
      ]
     },
     "execution_count": 3,
     "metadata": {},
     "output_type": "execute_result"
    }
   ],
   "source": [
    "type(zahlen)"
   ]
  },
  {
   "cell_type": "markdown",
   "metadata": {},
   "source": [
    "### Verwenden von NumPy"
   ]
  },
  {
   "cell_type": "code",
   "execution_count": null,
   "metadata": {},
   "outputs": [],
   "source": []
  },
  {
   "cell_type": "markdown",
   "metadata": {},
   "source": [
    "## Arrays / Vektoren\n",
    " \n",
    "$zahlen = \\left(\n",
    "    \\begin{array}{ccc}\n",
    "     1 \\\\ 2 \\\\ 3 \\\\ 4 \\\\\n",
    "    \\end{array}\n",
    " \\right)$"
   ]
  },
  {
   "cell_type": "code",
   "execution_count": null,
   "metadata": {},
   "outputs": [],
   "source": []
  },
  {
   "cell_type": "code",
   "execution_count": null,
   "metadata": {},
   "outputs": [],
   "source": []
  },
  {
   "cell_type": "markdown",
   "metadata": {},
   "source": [
    "<b><font color=\"red\">Hinweis:</font></b> Die Sinus-Funktion `sin()` aus dem Modul `math` und `numpy` sind nicht dieselben! Python erkennt anhand des Typs von `zahlen` auf welche Sinus-Funktion zugegriffen werden soll.\n",
    "- `math` -> `list`\n",
    "- `numpy` -> `numpy.ndarray`"
   ]
  },
  {
   "cell_type": "markdown",
   "metadata": {},
   "source": [
    "### Typen der NumPy-Werte\n",
    "\n",
    "Das Array `zahlen` enthält nur Integers (Ganze Zahlen), daher wird der Typ des Vektors auf `int64` gesetzt. Die Ausgabe von `ergebnis` gibt bei der Berechnung der Sinuswerte von `zahlen` als Typ Float (Gleitpunktzahlen/Dezimalzahlen), also `float64` an."
   ]
  },
  {
   "cell_type": "code",
   "execution_count": null,
   "metadata": {},
   "outputs": [],
   "source": []
  },
  {
   "cell_type": "code",
   "execution_count": null,
   "metadata": {},
   "outputs": [],
   "source": []
  },
  {
   "cell_type": "markdown",
   "metadata": {},
   "source": [
    "### Definition des Typs der Arrays"
   ]
  },
  {
   "cell_type": "code",
   "execution_count": 4,
   "metadata": {},
   "outputs": [],
   "source": [
    "# Ausgabe einer Gleitpunktzahl\n"
   ]
  },
  {
   "cell_type": "code",
   "execution_count": 5,
   "metadata": {},
   "outputs": [],
   "source": [
    "# Ausgabe einer Komplexen Zahl\n"
   ]
  },
  {
   "cell_type": "markdown",
   "metadata": {},
   "source": [
    "## Matrizen\n",
    "\n",
    "$M_1\\ = \\left(\n",
    "    \\begin{array}{ccc}\n",
    "     1 & 2 & 3 \\\\\n",
    "     4 & 5 & 6 \\\\\n",
    "    \\end{array}\n",
    " \\right)$"
   ]
  },
  {
   "cell_type": "code",
   "execution_count": null,
   "metadata": {},
   "outputs": [],
   "source": []
  },
  {
   "cell_type": "markdown",
   "metadata": {},
   "source": [
    "### Anzeigen der Dimension der Matrix"
   ]
  },
  {
   "cell_type": "code",
   "execution_count": null,
   "metadata": {},
   "outputs": [],
   "source": []
  },
  {
   "cell_type": "markdown",
   "metadata": {},
   "source": [
    "### Spezielle Funktionen"
   ]
  },
  {
   "cell_type": "markdown",
   "metadata": {},
   "source": [
    "#### 3x3-Nullmatrix"
   ]
  },
  {
   "cell_type": "code",
   "execution_count": null,
   "metadata": {},
   "outputs": [],
   "source": []
  },
  {
   "cell_type": "markdown",
   "metadata": {},
   "source": [
    "#### 3x4-Einheitsmatrix"
   ]
  },
  {
   "cell_type": "code",
   "execution_count": null,
   "metadata": {},
   "outputs": [],
   "source": []
  },
  {
   "cell_type": "markdown",
   "metadata": {},
   "source": [
    "#### Nullvektor"
   ]
  },
  {
   "cell_type": "code",
   "execution_count": null,
   "metadata": {},
   "outputs": [],
   "source": []
  },
  {
   "cell_type": "markdown",
   "metadata": {},
   "source": [
    "#### Einheitsvektor"
   ]
  },
  {
   "cell_type": "code",
   "execution_count": null,
   "metadata": {},
   "outputs": [],
   "source": []
  },
  {
   "cell_type": "markdown",
   "metadata": {},
   "source": [
    "### `arange()` und `linspace()` für Sequenzen von Zahlen"
   ]
  },
  {
   "cell_type": "markdown",
   "metadata": {},
   "source": [
    "Syntax: `arange(startwert, endwert, inkrement/schrittweite)`\n",
    "\n",
    "<b><font color=\"red\">Hinweis:</font></b> Wie in der `range()`-Funktion ist der Startwert inklusiv und der Endwert exklusiv."
   ]
  },
  {
   "cell_type": "code",
   "execution_count": null,
   "metadata": {},
   "outputs": [],
   "source": []
  },
  {
   "cell_type": "markdown",
   "metadata": {},
   "source": [
    "Syntax: `linspace(startwert, endwert, anzahl der arrays)`"
   ]
  },
  {
   "cell_type": "code",
   "execution_count": null,
   "metadata": {},
   "outputs": [],
   "source": []
  },
  {
   "cell_type": "markdown",
   "metadata": {},
   "source": [
    "### Operationen"
   ]
  },
  {
   "cell_type": "code",
   "execution_count": null,
   "metadata": {},
   "outputs": [],
   "source": []
  },
  {
   "cell_type": "markdown",
   "metadata": {},
   "source": [
    "$x=\\left(\n",
    "    \\begin{array}{ccc}\n",
    "     1 \\\\ 2 \\\\ 3 \\\\ 4 \\\\ 5 \\\\\n",
    "    \\end{array}\n",
    " \\right)$"
   ]
  },
  {
   "cell_type": "code",
   "execution_count": null,
   "metadata": {},
   "outputs": [],
   "source": []
  },
  {
   "cell_type": "markdown",
   "metadata": {},
   "source": [
    "$y=\\left(\n",
    "    \\begin{array}{ccc}\n",
    "     2 \\\\ 4 \\\\ 6 \\\\ 8 \\\\ 10 \\\\\n",
    "    \\end{array}\n",
    " \\right)$"
   ]
  },
  {
   "cell_type": "code",
   "execution_count": null,
   "metadata": {},
   "outputs": [],
   "source": []
  },
  {
   "cell_type": "markdown",
   "metadata": {},
   "source": [
    "### Addition\n",
    "$\\left(\n",
    "    \\begin{array}{ccc}\n",
    "     1 \\\\ 2 \\\\ 3 \\\\ 4 \\\\ 5 \\\\\n",
    "    \\end{array}\n",
    " \\right) \n",
    " +\n",
    " \\left(\n",
    "    \\begin{array}{ccc}\n",
    "     2 \\\\ 4 \\\\ 6 \\\\ 8 \\\\ 10 \\\\\n",
    "    \\end{array}\n",
    " \\right) \n",
    " =\n",
    " \\left(\n",
    "    \\begin{array}{ccc}\n",
    "     3 \\\\ 6 \\\\ 9 \\\\ 12 \\\\ 15 \\\\\n",
    "    \\end{array}\n",
    " \\right)$"
   ]
  },
  {
   "cell_type": "code",
   "execution_count": null,
   "metadata": {},
   "outputs": [],
   "source": []
  },
  {
   "cell_type": "markdown",
   "metadata": {},
   "source": [
    "### Subtraktion\n",
    "$\\left(\n",
    "    \\begin{array}{ccc}\n",
    "     1 \\\\ 2 \\\\ 3 \\\\ 4 \\\\ 5 \\\\\n",
    "    \\end{array}\n",
    " \\right) \n",
    " -\n",
    " \\left(\n",
    "    \\begin{array}{ccc}\n",
    "     2 \\\\ 4 \\\\ 6 \\\\ 8 \\\\ 10 \\\\\n",
    "    \\end{array}\n",
    " \\right) \n",
    " =\n",
    " \\left(\n",
    "    \\begin{array}{ccc}\n",
    "     -1 \\\\ -2 \\\\ -3 \\\\ -4 \\\\ -5 \\\\\n",
    "    \\end{array}\n",
    " \\right) \n",
    "$"
   ]
  },
  {
   "cell_type": "code",
   "execution_count": null,
   "metadata": {},
   "outputs": [],
   "source": []
  },
  {
   "cell_type": "markdown",
   "metadata": {},
   "source": [
    "### Erweiterung\n",
    "$\\left(\n",
    "    \\begin{array}{ccc}\n",
    "     1 \\\\ 2 \\\\ 3 \\\\ 4 \\\\ 5 \\\\\n",
    "    \\end{array}\n",
    " \\right) \n",
    " \\cdot 4\n",
    " =\n",
    " \\left(\n",
    "    \\begin{array}{ccc}\n",
    "     4 \\\\ 8 \\\\ 12 \\\\ 16 \\\\ 20 \\\\\n",
    "    \\end{array}\n",
    " \\right)\n",
    " $"
   ]
  },
  {
   "cell_type": "code",
   "execution_count": null,
   "metadata": {},
   "outputs": [],
   "source": []
  },
  {
   "cell_type": "markdown",
   "metadata": {},
   "source": [
    "### Achtung!\n",
    "\n",
    "-> Sehr gewöhnungsbedürftig ist, dass die Multiplikation und Division, als auch die Potenz und Wurzel von Arrays und Matrizen möglich ist\n",
    "\n",
    "#### Multiplikation\n",
    "<b><font color=\"red\">Hinweis:</font></b> Nicht zu verwechseln mit dem Skalarprodukt!\n",
    "\n",
    "$\\left(\n",
    "    \\begin{array}{ccc}\n",
    "     1 \\\\ 2 \\\\ 3 \\\\ 4 \\\\ 5 \\\\\n",
    "    \\end{array}\n",
    " \\right) \n",
    " \\cdot\n",
    " \\left(\n",
    "    \\begin{array}{ccc}\n",
    "     2 \\\\ 4 \\\\ 6 \\\\ 8 \\\\ 10 \\\\\n",
    "    \\end{array}\n",
    " \\right) \n",
    " =\n",
    " \\left(\n",
    "    \\begin{array}{ccc}\n",
    "     2 \\\\ 8 \\\\ 18 \\\\ 32 \\\\ 50 \\\\\n",
    "    \\end{array}\n",
    " \\right) \n",
    "$"
   ]
  },
  {
   "cell_type": "code",
   "execution_count": null,
   "metadata": {},
   "outputs": [],
   "source": []
  },
  {
   "cell_type": "markdown",
   "metadata": {},
   "source": [
    "#### Division\n",
    "\n",
    "$\\left(\n",
    "    \\begin{array}{ccc}\n",
    "     1 \\\\ 2 \\\\ 3 \\\\ 4 \\\\ 5 \\\\\n",
    "    \\end{array}\n",
    " \\right) \n",
    "  / \n",
    " \\left(\n",
    "    \\begin{array}{ccc}\n",
    "     2 \\\\ 4 \\\\ 6 \\\\ 8 \\\\ 10 \\\\\n",
    "    \\end{array}\n",
    " \\right) \n",
    " =\n",
    " \\left(\n",
    "    \\begin{array}{ccc}\n",
    "     0.5 \\\\ 0.5 \\\\ 0.5 \\\\ 0.5 \\\\ 0.5 \\\\\n",
    "    \\end{array}\n",
    " \\right) \n",
    "$"
   ]
  },
  {
   "cell_type": "code",
   "execution_count": null,
   "metadata": {},
   "outputs": [],
   "source": []
  },
  {
   "cell_type": "markdown",
   "metadata": {},
   "source": [
    "#### Potenz\n",
    "$\\left(\n",
    "    \\begin{array}{ccc}\n",
    "     1 \\\\ 2 \\\\ 3 \\\\ 4 \\\\ 5 \\\\\n",
    "    \\end{array}\n",
    " \\right) ^2\\\n",
    " =\n",
    " \\left(\n",
    "    \\begin{array}{ccc}\n",
    "     1 \\\\ 4 \\\\ 9 \\\\ 16 \\\\ 25 \\\\\n",
    "    \\end{array}\n",
    " \\right)$"
   ]
  },
  {
   "cell_type": "code",
   "execution_count": null,
   "metadata": {},
   "outputs": [],
   "source": []
  },
  {
   "cell_type": "markdown",
   "metadata": {},
   "source": [
    "<b><font color=\"red\">Hinweis:</font></b> Die Verwendung der `pow()`-Funktion aus dem `math`-Modul führt zu einer Fehlermeldung."
   ]
  },
  {
   "cell_type": "markdown",
   "metadata": {},
   "source": [
    "#### Wurzel\n",
    "\n",
    "$\\sqrt{\n",
    "\\left(\n",
    "    \\begin{array}{ccc}\n",
    "     1 \\\\ 2 \\\\ 3 \\\\ 4 \\\\ 5 \\\\\n",
    "    \\end{array}\n",
    " \\right)}\n",
    " =\n",
    " \\left(\n",
    "    \\begin{array}{ccc}\n",
    "     1.000 \\\\ 1.414 \\\\ 1.732 \\\\ 2.000 \\\\ 2.236 \\\\\n",
    "    \\end{array}\n",
    " \\right)$"
   ]
  },
  {
   "cell_type": "code",
   "execution_count": null,
   "metadata": {},
   "outputs": [],
   "source": []
  },
  {
   "cell_type": "markdown",
   "metadata": {},
   "source": [
    "<b><font color=\"red\">Hinweis:</font></b> Die Verwendung der `sqrt()`-Funktion aus dem `math`-Modul führt zu einer Fehlermeldung."
   ]
  },
  {
   "cell_type": "markdown",
   "metadata": {},
   "source": [
    "## Vektoren- und Matrizenberechnungen"
   ]
  },
  {
   "cell_type": "markdown",
   "metadata": {},
   "source": [
    "### Skalarprodukt \n",
    "(auch Innere Produkt)\n",
    "\n",
    "$a\\cdot b = \\left(\n",
    "    \\begin{array}{ccc}\n",
    "     1 \\\\ 2 \\\\ 3 \\\\\n",
    "    \\end{array}\n",
    " \\right)\n",
    " \\cdot\n",
    " \\left(\n",
    "    \\begin{array}{ccc}\n",
    "     0 \\\\ 1 \\\\ 0 \\\\\n",
    "    \\end{array}\n",
    " \\right)\n",
    " = 2\n",
    " $"
   ]
  },
  {
   "cell_type": "code",
   "execution_count": null,
   "metadata": {},
   "outputs": [],
   "source": [
    "a = np.array([1,2,3])\n",
    "b = np.array([0,1,0])\n"
   ]
  },
  {
   "cell_type": "markdown",
   "metadata": {},
   "source": [
    "### Matrizenprodukt"
   ]
  },
  {
   "cell_type": "code",
   "execution_count": 8,
   "metadata": {},
   "outputs": [
    {
     "name": "stdout",
     "output_type": "stream",
     "text": [
      "[[35 41]\n",
      " [81 95]]\n",
      "[[37 40]\n",
      " [85 92]]\n",
      "[[37 40]\n",
      " [85 92]]\n"
     ]
    }
   ],
   "source": [
    "a = np.array([[1,2],[3,4]]) \n",
    "b = np.array([[11,12],[13,14]])\n"
   ]
  },
  {
   "cell_type": "code",
   "execution_count": 13,
   "metadata": {},
   "outputs": [
    {
     "name": "stdout",
     "output_type": "stream",
     "text": [
      "[[ 442  316  870]\n",
      " [ 772  556 1500]\n",
      " [1102  796 2130]]\n",
      "[[ 442  316  870]\n",
      " [ 772  556 1500]\n",
      " [1102  796 2130]]\n"
     ]
    }
   ],
   "source": [
    "A = np.array([[11, 12, 13, 14], [21, 22, 23, 24], [31, 32, 33, 34]]) \n",
    "B = np.array([[5, 4, 2], [1, 0, 2], [3, 8, 2], [24, 12, 57]])\n",
    "# print(np.inner(A, B))  # Fehlermeldung\n"
   ]
  },
  {
   "cell_type": "markdown",
   "metadata": {},
   "source": [
    "### Kreuzprodukt\n",
    "\n",
    "$a\\times b = \\left(\n",
    "    \\begin{array}{ccc}\n",
    "     1 \\\\ 2 \\\\ 3 \\\\\n",
    "    \\end{array}\n",
    " \\right)\n",
    " \\times\n",
    " \\left(\n",
    "    \\begin{array}{ccc}\n",
    "     0 \\\\ 1 \\\\ 0 \\\\\n",
    "    \\end{array}\n",
    " \\right)\n",
    " = \n",
    " \\left(\n",
    "    \\begin{array}{ccc}\n",
    "     -3 \\\\ 6 \\\\ -3 \\\\\n",
    "    \\end{array}\n",
    " \\right)\n",
    " $"
   ]
  },
  {
   "cell_type": "code",
   "execution_count": 76,
   "metadata": {},
   "outputs": [
    {
     "data": {
      "text/plain": [
       "array([-3,  6, -3])"
      ]
     },
     "execution_count": 76,
     "metadata": {},
     "output_type": "execute_result"
    }
   ],
   "source": [
    "x = np.array([1, 2, 3])\n",
    "y = np.array([4, 5, 6])\n"
   ]
  }
 ],
 "metadata": {
  "kernelspec": {
   "display_name": "Python 3",
   "language": "python",
   "name": "python3"
  },
  "language_info": {
   "codemirror_mode": {
    "name": "ipython",
    "version": 3
   },
   "file_extension": ".py",
   "mimetype": "text/x-python",
   "name": "python",
   "nbconvert_exporter": "python",
   "pygments_lexer": "ipython3",
   "version": "3.8.5"
  }
 },
 "nbformat": 4,
 "nbformat_minor": 4
}
