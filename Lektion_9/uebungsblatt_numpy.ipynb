{
 "cells": [
  {
   "cell_type": "markdown",
   "metadata": {},
   "source": [
    "# Lineare Alegbra mit NumPy"
   ]
  },
  {
   "cell_type": "code",
   "execution_count": 4,
   "metadata": {},
   "outputs": [],
   "source": [
    "import numpy as np"
   ]
  },
  {
   "cell_type": "markdown",
   "metadata": {},
   "source": [
    "## 1. Aufgabe\n",
    "Gegeben ist folgendes Gleichungssystem:\n",
    "\n",
    "$1 \\cdot x_1 + 2 \\cdot x_2 = 5$\n",
    "\n",
    "$3 \\cdot x_1 + 4 \\cdot x_2 = 11$\n",
    "\n",
    "Berechne die Werte für $x_1$ und $x_2$ mithilfe von NumPy."
   ]
  },
  {
   "cell_type": "code",
   "execution_count": 2,
   "metadata": {},
   "outputs": [
    {
     "name": "stdout",
     "output_type": "stream",
     "text": [
      "[[1.]\n",
      " [2.]]\n"
     ]
    }
   ],
   "source": [
    "A = np.array([[1,2], [3,4]])\n",
    "b = np.array([[5],[11]])\n",
    "y = np.linalg.solve(A,b)\n",
    "print(y)"
   ]
  },
  {
   "cell_type": "markdown",
   "metadata": {},
   "source": [
    "## 2. Aufgabe\n",
    "Wandle die folgenden Temperaturen von Grad Celsius in Grad Fahrenheit um. \n",
    "\n",
    "$\\vartheta[°C]=[20.1,\\enspace20.8,\\enspace21.9,\\enspace22.5,\\enspace22.7,\\enspace21.8,\\enspace21.3,\\enspace20.9,\\enspace20.1]$\n",
    "\n",
    "Verwende dazu NumPy. Die Umrechnungsformel von Grad Celsius in Grad Fahrenheit lautet:\n",
    "\n",
    "$\\vartheta[°F] \\enspace \\hat{=} \\enspace \\vartheta[°C] \\cdot \\frac{9}{5} + 32 $"
   ]
  },
  {
   "cell_type": "code",
   "execution_count": 8,
   "metadata": {},
   "outputs": [
    {
     "name": "stdout",
     "output_type": "stream",
     "text": [
      "[68.18 69.44 71.42 72.5  72.86 71.24 70.34 69.62 68.18]\n"
     ]
    }
   ],
   "source": [
    "temp_c = np.array([20.1,20.8,21.9,22.5,22.7,21.8,21.3,20.9,20.1])\n",
    "temp_f = temp_c*9/5+32\n",
    "print(temp_f)"
   ]
  },
  {
   "cell_type": "code",
   "execution_count": null,
   "metadata": {},
   "outputs": [],
   "source": []
  }
 ],
 "metadata": {
  "kernelspec": {
   "display_name": "Python 3",
   "language": "python",
   "name": "python3"
  },
  "language_info": {
   "codemirror_mode": {
    "name": "ipython",
    "version": 3
   },
   "file_extension": ".py",
   "mimetype": "text/x-python",
   "name": "python",
   "nbconvert_exporter": "python",
   "pygments_lexer": "ipython3",
   "version": "3.8.0"
  }
 },
 "nbformat": 4,
 "nbformat_minor": 2
}
